{
 "cells": [
  {
   "cell_type": "code",
   "execution_count": 75,
   "id": "9ac9a271",
   "metadata": {
    "scrolled": true
   },
   "outputs": [
    {
     "name": "stdout",
     "output_type": "stream",
     "text": [
      "10\n",
      "2\n"
     ]
    }
   ],
   "source": [
    "# Question 1\n",
    "inp = int(input())\n",
    "array = [10,20,10,40,50]\n",
    "count = 0\n",
    "for x in array:\n",
    "    if x == inp:\n",
    "        count += 1\n",
    "    else:\n",
    "        pass\n",
    "print(count)"
   ]
  },
  {
   "cell_type": "code",
   "execution_count": 15,
   "id": "8c5155c2",
   "metadata": {},
   "outputs": [
    {
     "name": "stdout",
     "output_type": "stream",
     "text": [
      "25\n",
      "This is a not Prime Number\n"
     ]
    }
   ],
   "source": [
    "# Question 2\n",
    "def prime(N):\n",
    "    if N == 2:\n",
    "        result = \"Prime Number\"\n",
    "    elif N > 2:\n",
    "        for i in range(2,N):\n",
    "            if (N % i) == 0:\n",
    "                result = \"This is a not Prime Number\"\n",
    "                break\n",
    "            else:\n",
    "                continue\n",
    "        else:\n",
    "            result = \"This is a Prime Number\"\n",
    "    else:\n",
    "        print(\"Wrong Input\")\n",
    "        \n",
    "    return result\n",
    "\n",
    "if __name__ == '__main__':\n",
    "    inp = int(input())\n",
    "    print(prime(inp))"
   ]
  },
  {
   "cell_type": "code",
   "execution_count": null,
   "id": "3bab7145",
   "metadata": {},
   "outputs": [],
   "source": [
    "# Question 3\n",
    "# table_name = 'employees', column -> 'name' \n",
    "SELECT name, count(name) AS dup_counts FROM employees GROUP BY name HAVING dup_counts > 1"
   ]
  },
  {
   "cell_type": "code",
   "execution_count": null,
   "id": "faa7a537",
   "metadata": {},
   "outputs": [],
   "source": [
    "# Question 4 \n",
    "SELECT name,department_names FROM employees "
   ]
  },
  {
   "cell_type": "code",
   "execution_count": null,
   "id": "0ac567db",
   "metadata": {},
   "outputs": [],
   "source": [
    "# Question 5\n",
    "SELECT CONCAT(first_name, ' ', last_name) AS full_name FROM employees"
   ]
  },
  {
   "cell_type": "code",
   "execution_count": null,
   "id": "5908ddfe",
   "metadata": {},
   "outputs": [],
   "source": [
    "# Question 6\n",
    "SELECT * FROM address WHERE city_name LIKE '%s'"
   ]
  },
  {
   "cell_type": "code",
   "execution_count": null,
   "id": "49aedcd2",
   "metadata": {},
   "outputs": [],
   "source": [
    "# Question 7\n",
    "SELECT MIN(price) FROM products"
   ]
  },
  {
   "cell_type": "code",
   "execution_count": null,
   "id": "1d276906",
   "metadata": {},
   "outputs": [],
   "source": [
    "# Question 8\n",
    "SELECT * FROM transactions WHERE DATE(transaction_date) = DATE(NOW()) "
   ]
  },
  {
   "cell_type": "code",
   "execution_count": 6,
   "id": "7bbaccc5",
   "metadata": {},
   "outputs": [
    {
     "name": "stdout",
     "output_type": "stream",
     "text": [
      "2\n",
      "Enter the Name here: aaaa\n",
      "Enter the Message: this is aaaa\n",
      "Enter the Name here: bbb\n",
      "Enter the Message: this is bbbb\n",
      "   id  Name       Message          Time     time_diff\n",
      "0   1  aaaa  this is aaaa  1.707122e+09  5seconds ago\n",
      "1   2   bbb  this is bbbb  1.707122e+09  0seconds ago\n"
     ]
    }
   ],
   "source": [
    "# Twitter Task\n",
    "import pandas as pd\n",
    "import time\n",
    "\n",
    "def time_calc(df):\n",
    "    time_diff = []\n",
    "    for x in df['Time']:\n",
    "        curr_diff = abs(x - time.time())\n",
    "        if curr_diff > 0 and curr_diff < 60:\n",
    "            time_diff.append(str( int(curr_diff) ) + 'seconds ago')\n",
    "        elif curr_diff >= 60 and curr_diff < 3600:\n",
    "            time_diff.append(str(int(curr_diff / 60)) + 'minutes ago')\n",
    "        elif curr_diff >= 3600 and curr_diff < 86400:\n",
    "            time_diff.append(str( int(curr_diff / (60*60)) ) + 'Hours ago')\n",
    "        else:\n",
    "            time_diff.append(str( int(curr_diff / (60*60*24)) ) + 'Days ago')\n",
    "    df['time_diff'] = time_diff\n",
    "    df.drop(columns=df.columns[0], axis=1,  inplace=True)\n",
    "    print(df)\n",
    "        \n",
    "def process_(inp):\n",
    "    df = pd.DataFrame()\n",
    "    name, msg, timee = [],[],[] \n",
    "    for _ in range(inp):\n",
    "        name_input = str(input(\"Enter the Name here: \"))\n",
    "        message_input = str(input(\"Enter the Message: \"))\n",
    "        name.append(name_input)\n",
    "        msg.append(message_input)\n",
    "        timee.append(time.time())\n",
    "    id_ = [x for x in range(1, inp + 1)]  \n",
    "    df['id'],df['Name'],df['Message'],df['Time'] = id_,name, msg, timee \n",
    "    df.to_csv('C:\\\\Users\\\\harip\\\\twitter.csv')\n",
    "    \n",
    "    df = pd.read_csv('C:\\\\Users\\\\harip\\\\twitter.csv')\n",
    "    time_calc(df)\n",
    "\n",
    "\n",
    "if __name__ == '__main__':\n",
    "    inp = int(input())\n",
    "    twitter = process_(inp)"
   ]
  },
  {
   "cell_type": "code",
   "execution_count": null,
   "id": "4100dd73",
   "metadata": {},
   "outputs": [],
   "source": []
  },
  {
   "cell_type": "code",
   "execution_count": null,
   "id": "23fa9882",
   "metadata": {},
   "outputs": [],
   "source": []
  },
  {
   "cell_type": "code",
   "execution_count": null,
   "id": "c2fb8369",
   "metadata": {},
   "outputs": [],
   "source": []
  },
  {
   "cell_type": "code",
   "execution_count": null,
   "id": "e276c52c",
   "metadata": {},
   "outputs": [],
   "source": []
  }
 ],
 "metadata": {
  "kernelspec": {
   "display_name": "Python 3 (ipykernel)",
   "language": "python",
   "name": "python3"
  },
  "language_info": {
   "codemirror_mode": {
    "name": "ipython",
    "version": 3
   },
   "file_extension": ".py",
   "mimetype": "text/x-python",
   "name": "python",
   "nbconvert_exporter": "python",
   "pygments_lexer": "ipython3",
   "version": "3.11.3"
  }
 },
 "nbformat": 4,
 "nbformat_minor": 5
}
